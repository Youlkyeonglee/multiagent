{
 "cells": [
  {
   "cell_type": "code",
   "execution_count": 1,
   "metadata": {},
   "outputs": [],
   "source": [
    "import os\n"
   ]
  },
  {
   "cell_type": "code",
   "execution_count": 2,
   "metadata": {},
   "outputs": [
    {
     "data": {
      "text/plain": [
       "True"
      ]
     },
     "execution_count": 2,
     "metadata": {},
     "output_type": "execute_result"
    }
   ],
   "source": [
    "from dotenv import load_dotenv\n",
    "load_dotenv()"
   ]
  },
  {
   "cell_type": "code",
   "execution_count": 3,
   "metadata": {},
   "outputs": [],
   "source": [
    "from langchain_core.messages import (\n",
    "    BaseMessage,\n",
    "    HumanMessage,\n",
    "    ToolMessage,\n",
    ")\n",
    "from langchain_core.prompts import ChatPromptTemplate, MessagesPlaceholder\n",
    "\n",
    "from langgraph.graph import END, StateGraph, START"
   ]
  },
  {
   "cell_type": "code",
   "execution_count": 4,
   "metadata": {},
   "outputs": [],
   "source": [
    "def create_agent(llm, tools, system_message: str):\n",
    "    \"\"\"Create an Agent\"\"\"\n",
    "    prompt = ChatPromptTemplate.from_messages([\n",
    "        (\n",
    "            \"system\",\n",
    "            \"\"\"You are a helpful AI assistant, collabrating with other assistants.\n",
    "            Use the provided tools to progress towards answering the question.\n",
    "            If you are unable to fully answer, that's OK, another assistant with different tools will help where you left off.\n",
    "            Execute what you can to make progress.\n",
    "            If you or any of the other assistants have the final answer or deliverable,\n",
    "            prefix your response with FINAL ANSWER so the team knows to stop.\n",
    "            You have access to the following tools: {tool_names}.\\n{system_message},\n",
    "            \n",
    "            \"\"\"\n",
    "        ),\n",
    "        MessagesPlaceholder(variable_name=\"messages\")\n",
    "    ])\n",
    "    prompt=prompt.partial(system_message=system_message)\n",
    "    prompt=prompt.partial(tool_names=\", \".join([tool.name for tool in tools]))\n",
    "    return prompt | llm.bind_tools(tools)\n"
   ]
  },
  {
   "cell_type": "markdown",
   "metadata": {},
   "source": [
    "# Define Tools"
   ]
  },
  {
   "cell_type": "code",
   "execution_count": 5,
   "metadata": {},
   "outputs": [],
   "source": [
    "from typing import Annotated\n",
    "from langchain_community.tools.tavily_search import TavilySearchResults\n",
    "\n",
    "tavily_tool = TavilySearchResults(max_resutls=5)"
   ]
  },
  {
   "cell_type": "code",
   "execution_count": 6,
   "metadata": {},
   "outputs": [],
   "source": [
    "from langchain_core.tools import tool\n",
    "from langchain_experimental.utilities import PythonREPL\n",
    "\n",
    "repl = PythonREPL()\n",
    "\n",
    "@tool\n",
    "def python_repl(code: Annotated[str, \"The python code to execute to generate your chart.\"]):\n",
    "    \"\"\"\n",
    "    Execute the given Python code in a REPL environment and return the result.\n",
    "    \n",
    "    Args:\n",
    "        code (str): The Python code to execute.\n",
    "    \n",
    "    Returns:\n",
    "        str: The result of the code execution or an error message.\n",
    "    \"\"\"\n",
    "    try:\n",
    "        result = repl.run(code)\n",
    "    except BaseException as e:\n",
    "        return f\"Failed to execute. Error: {repr(e)}\"\n",
    "    result_str = f\"Successfully executed:\\n```python\\n{code}\\n````\\nStdout: {result}\"\n",
    "    return (result_str + \"\\n\\nIf you have completed all tasks, respond with FINAL ANSWER.\")\n",
    "    "
   ]
  },
  {
   "cell_type": "markdown",
   "metadata": {},
   "source": [
    "# Create graph\n",
    "도구들을 정의하고 보조 함수를 만들었으므로, 아래에서 개별 에이전트들을 생성하고 LangGraph를 사용하여 서로 소통하는 방법"
   ]
  },
  {
   "cell_type": "markdown",
   "metadata": {},
   "source": [
    "## Define State\n",
    "먼저 그래프의 상태를 정의함, 이는 단순히 메시지 목록과 가장 최근에 메시지를 보낸 발신자(sender)를 추적하는 키로 구성됨"
   ]
  },
  {
   "cell_type": "code",
   "execution_count": 7,
   "metadata": {},
   "outputs": [],
   "source": [
    "import operator\n",
    "from typing import Annotated, Sequence, TypedDict\n",
    "\n",
    "from langchain.chat_models import ChatOllama\n",
    "\n",
    "class AgentState(TypedDict):\n",
    "    messages: Annotated[Sequence[BaseMessage], operator.add]\n",
    "    sender: str #지금 메시지가 어떤 AI Agent에서 넘어왔는지 확인함"
   ]
  },
  {
   "cell_type": "markdown",
   "metadata": {},
   "source": [
    "# Define Agent Nodes"
   ]
  },
  {
   "cell_type": "code",
   "execution_count": 8,
   "metadata": {},
   "outputs": [
    {
     "name": "stderr",
     "output_type": "stream",
     "text": [
      "C:\\Users\\Public\\Documents\\ESTsoft\\CreatorTemp\\ipykernel_384\\1962677245.py:18: LangChainDeprecationWarning: The class `OllamaFunctions` was deprecated in LangChain 0.0.64 and will be removed in 1.0. An updated version of the class exists in the :class:`~langchain-ollama package and should be used instead. To use it run `pip install -U :class:`~langchain-ollama` and import as `from :class:`~langchain_ollama import ChatOllama``.\n",
      "  llm = OllamaFunctions(\n"
     ]
    }
   ],
   "source": [
    "import functools\n",
    "from langchain_core.messages import AIMessage\n",
    "from langchain_experimental.llms.ollama_functions import OllamaFunctions\n",
    "def agent_node(state, agent, name):\n",
    "    result = agent.invoke(state)\n",
    "\n",
    "    if isinstance(result, ToolMessage):\n",
    "        pass\n",
    "    else:\n",
    "        result = AIMessage(**result.dict(exclude={\"type\", \"name\"}), name=name)\n",
    "    return {\n",
    "        \"messages\": [result],\n",
    "        # Since we have a strict workflow, we can\n",
    "        # track the sender so we know who to pass to next.\n",
    "        \"sender\": name\n",
    "    }\n",
    "\n",
    "llm = OllamaFunctions(\n",
    "    model=\"llama3.1:latest\",\n",
    "    format=\"json\"\n",
    ")"
   ]
  },
  {
   "cell_type": "code",
   "execution_count": 9,
   "metadata": {},
   "outputs": [],
   "source": [
    "research_agent = create_agent(\n",
    "    llm,\n",
    "    [tavily_tool],\n",
    "    system_message=\"You should provide accurate data for use, \"\n",
    "        \"and source code shouldn't be the final answer\",\n",
    ")\n",
    "research_node = functools.partial(agent_node, agent=research_agent, name=\"Researcher\")"
   ]
  },
  {
   "cell_type": "code",
   "execution_count": 10,
   "metadata": {},
   "outputs": [],
   "source": [
    "chart_agent = create_agent(\n",
    "    llm,\n",
    "    [python_repl],\n",
    "    system_message=\"Run the python code to display the chart.\"\n",
    ")\n",
    "chart_node = functools.partial(agent_node, agent=chart_agent, name=\"char_generator\")"
   ]
  },
  {
   "cell_type": "markdown",
   "metadata": {},
   "source": [
    "# Define Tool Node"
   ]
  },
  {
   "cell_type": "code",
   "execution_count": 11,
   "metadata": {},
   "outputs": [],
   "source": [
    "from langgraph.prebuilt import ToolNode\n",
    "\n",
    "tools = [tavily_tool, python_repl]\n",
    "tool_node = ToolNode(tools)"
   ]
  },
  {
   "cell_type": "markdown",
   "metadata": {},
   "source": [
    "# Define Edge Logic"
   ]
  },
  {
   "cell_type": "code",
   "execution_count": 12,
   "metadata": {},
   "outputs": [],
   "source": [
    "from typing import Literal\n",
    "\n",
    "def router(state) -> Literal[\"call_tool\", \"__end__\", \"continue\"]:\n",
    "    # This is the router\n",
    "    messages = state[\"messages\"]\n",
    "    last_message = messages[-1]\n",
    "    if last_message.tool_calls:\n",
    "        return \"call_tool\"\n",
    "    if \"FINAL ANSWER\" in last_message.content:\n",
    "        return \"__end__\"\n",
    "    return \"continue\"\n"
   ]
  },
  {
   "cell_type": "markdown",
   "metadata": {},
   "source": [
    "# Define the Graph"
   ]
  },
  {
   "cell_type": "code",
   "execution_count": 13,
   "metadata": {},
   "outputs": [],
   "source": [
    "workflow = StateGraph(AgentState)\n",
    "\n",
    "workflow.add_node(\"Researcher\", research_node)\n",
    "workflow.add_node(\"chart_generator\", chart_node)\n",
    "workflow.add_node(\"call_tool\", tool_node)\n",
    "\n",
    "workflow.add_conditional_edges(\n",
    "    \"Researcher\",\n",
    "    router,\n",
    "    {\"continue\": \"chart_generator\", \"call_tool\": \"call_tool\", \"__end__\": END}\n",
    ")\n",
    "workflow.add_conditional_edges(\n",
    "    \"chart_generator\",\n",
    "    router,\n",
    "    {\"continue\": \"Researcher\", \"call_tool\": \"call_tool\", \"__end__\": END}\n",
    ")\n",
    "workflow.add_conditional_edges(\n",
    "    \"call_tool\",\n",
    "    lambda x: x[\"sender\"],\n",
    "    {\n",
    "        \"Researcher\":\"Researcher\", \n",
    "        \"chart_generator\": \"chart_generator\"\n",
    "     }\n",
    ")\n",
    "workflow.add_edge(START, \"Researcher\")\n",
    "graph = workflow.compile()"
   ]
  },
  {
   "cell_type": "code",
   "execution_count": 14,
   "metadata": {},
   "outputs": [
    {
     "data": {
      "image/png": "[encoded data removed]",
      "text/plain": [
       "<IPython.core.display.Image object>"
      ]
     },
     "metadata": {},
     "output_type": "display_data"
    }
   ],
   "source": [
    "from IPython.display import Image, display\n",
    "\n",
    "try:\n",
    "    display(Image(graph.get_graph(xray=True).draw_mermaid_png()))\n",
    "except Exception:\n",
    "    pass"
   ]
  },
  {
   "cell_type": "markdown",
   "metadata": {},
   "source": [
    "# Invoke"
   ]
  },
  {
   "cell_type": "code",
   "execution_count": null,
   "metadata": {},
   "outputs": [],
   "source": [
    "output = graph.invoke()"
   ]
  },
  {
   "cell_type": "code",
   "execution_count": 23,
   "metadata": {},
   "outputs": [
    {
     "name": "stderr",
     "output_type": "stream",
     "text": [
      "Failed to use model_dump to serialize <class 'langchain_community.tools.tavily_search.tool.TavilySearchResults'> to JSON: PydanticSerializationError(Unable to serialize unknown type: <class 'pydantic._internal._model_construction.ModelMetaclass'>)\n",
      "Failed to use model_dump to serialize <class 'langchain_community.tools.tavily_search.tool.TavilySearchResults'> to JSON: PydanticSerializationError(Unable to serialize unknown type: <class 'pydantic._internal._model_construction.ModelMetaclass'>)\n",
      "C:\\Users\\Public\\Documents\\ESTsoft\\CreatorTemp\\ipykernel_384\\1962677245.py:10: PydanticDeprecatedSince20: The `dict` method is deprecated; use `model_dump` instead. Deprecated in Pydantic V2.0 to be removed in V3.0. See Pydantic V2 Migration Guide at https://errors.pydantic.dev/2.10/migration/\n",
      "  result = AIMessage(**result.dict(exclude={\"type\", \"name\"}), name=name)\n"
     ]
    },
    {
     "name": "stdout",
     "output_type": "stream",
     "text": [
      "{'Researcher': {'messages': [AIMessage(content='', additional_kwargs={}, response_metadata={}, name='Researcher', id='run-eff18665-418e-4e42-a566-6b03e602252c-0', tool_calls=[{'name': 'tavily_search_results_json', 'args': {'query': 'USA GDP past 3 years'}, 'id': 'call_783d8d6484ad4ad4af2efcacfc8978aa', 'type': 'tool_call'}])], 'sender': 'Researcher'}}\n",
      "-----\n"
     ]
    },
    {
     "name": "stderr",
     "output_type": "stream",
     "text": [
      "Failed to use model_dump to serialize <class 'langchain_community.tools.tavily_search.tool.TavilySearchResults'> to JSON: PydanticSerializationError(Unable to serialize unknown type: <class 'pydantic._internal._model_construction.ModelMetaclass'>)\n",
      "Failed to use model_dump to serialize <class 'langchain_community.tools.tavily_search.tool.TavilySearchResults'> to JSON: PydanticSerializationError(Unable to serialize unknown type: <class 'pydantic._internal._model_construction.ModelMetaclass'>)\n"
     ]
    },
    {
     "name": "stdout",
     "output_type": "stream",
     "text": [
      "{'call_tool': {'messages': [ToolMessage(content='[{\"url\": \"https://www.macrotrends.net/global-metrics/countries/USA/united-states/gdp-gross-domestic-product\", \"content\": \"| 2023 | $27,360.94B | $81,695 | 2.54% | | 2022 | $25,744.11B | $77,247 | 1.94% | | 2021 | $23,594.03B | $71,056 | 5.80% | | 2020 | $21,322.95B | $64,317 | -2.21% | | 2019 | $21,521.40B | $65,548 | 2.47% | | 2018 | $20,656.52B | $63,201 | 2.97% | | 2017 | $19,612.10B | $60,322 | 2.46% | | 2016 | $18,804.91B | $58,207 | 1.82% | | 2015 | $18,295.02B | $57,040 | 2.95% | | 2014 | $17,608.14B | $55,304 | 2.52% | | 2013 | $16,880.68B | $53,410 | 2.12% | | 2012 | $16,253.97B | $51,784 | 2.29% | | 2011 | $15,599.73B | $50,066 | 1.56% |\"}, {\"url\": \"https://www.multpl.com/us-gdp/table/by-year\", \"content\": \"US GDP by Year - Multpl S&P 500 PE Ratio US GDP by Year | Jun 30, 2024 | \\u2002 29.02 trillion | | Dec 31, 2023 | \\u2002 28.30 trillion | | Dec 31, 2022 | \\u2002 26.73 trillion | | Dec 31, 2021 | \\u2002 24.78 trillion | | Dec 31, 2020 | \\u2002 22.07 trillion | | Dec 31, 2019 | \\u2002 21.93 trillion | | Dec 31, 2018 | \\u2002 20.92 trillion | | Dec 31, 2017 | \\u2002 20.04 trillion | | Dec 31, 2016 | \\u2002 19.09 trillion | | Dec 31, 2015 | \\u2002 18.44 trillion | | Dec 31, 2014 | \\u2002 17.91 trillion | | Dec 31, 2013 | \\u2002 17.19 trillion | US Real GDP US Real GDP Growth Rate\"}, {\"url\": \"https://www.macrotrends.net/global-metrics/countries/USA/united-states/gdp-growth-rate\", \"content\": \"U.S. GDP Growth Rate 1961-2024 | MacroTrends U.S. GDP Growth Rate 1961-2024 GDP Growth Rate Annual percentage growth rate of GDP at market prices based on constant local currency. U.S. gdp growth rate for 2023 was 2.54%, a 0.61% increase from 2022. U.S. gdp growth rate for 2022 was 1.94%, a 3.86% decline from 2021. U.S. gdp growth rate for 2021 was 5.80%, a 8.01% increase from 2020. U.S. gdp growth rate for 2020 was -2.21%, a 4.68% decline from 2019. | Country Name | GDP Growth (%) | | U.S. GDP Growth Rate - Historical Data | | U.S. GDP Growth Rate 1961-2024 |  | | U.S. GDP Growth Rate 1961-2024 |  |\"}, {\"url\": \"https://www.bea.gov/data/gdp/gross-domestic-product\", \"content\": \"Gross Domestic Product | U.S. Bureau of Economic Analysis (BEA) Main navigation Data News Releases BEA Data Real gross domestic product (GDP) increased at an annual rate of 2.8 percent in the third quarter of 2024, according to the \\\\\"advance\\\\\" estimate. Current Release Quick Guide: GDP Releases Real GDP: Percent change from preceding quarter, Q3\\'24 Adv - HP Real GDP: Percent change from preceding quarter, Q3\\'24 Adv - HP Full Release & Tables (PDF) GDP and the National Income and Product Account (NIPA) Historical Tables Supplemental Information & Additional Data Measuring the Economy: A Primer on GDP and the National Income and Product Accounts News Release Archive Vintage History of Quarterly Gross Domestic Product (GDP) and Gross Domestic Income (GDI) Estimates\"}, {\"url\": \"https://fortunly.com/statistics/us-gdp-by-year-guide/\", \"content\": \"Year\\\\nNominal GDP\\\\nReal GDP\\\\n% Change\\\\n1920\\\\nN/A\\\\n0.67\\\\nN/A\\\\n1921\\\\nN/A\\\\n0.67\\\\n0.00%\\\\n1922\\\\nN/A\\\\n0.71\\\\n5.97%\\\\n1923\\\\nN/A\\\\n0.8\\\\n12.68%\\\\n1924\\\\nN/A\\\\n0.83\\\\n3.75%\\\\n1925\\\\nN/A\\\\n0.85\\\\n2.41%\\\\n1926\\\\nN/A\\\\n0.9\\\\n5.88%\\\\n1927\\\\nN/A\\\\n0.91\\\\n1.11%\\\\n1928\\\\nN/A\\\\n0.92\\\\n1.10%\\\\n1929\\\\n$0.11\\\\n$0.98\\\\n6.52%\\\\n1930\\\\n$0.09\\\\n$1.02\\\\n-8.50%\\\\n1931\\\\n$0.08\\\\n$0.95\\\\n-6.40%\\\\n1932\\\\n$0.06\\\\n$0.83\\\\n-12.90%\\\\n1933\\\\n$0.06\\\\n$0.82\\\\n-1.20%\\\\n1934\\\\n$0.07\\\\n$0.91\\\\n10.80%\\\\n1935\\\\n$0.07\\\\n$0.99\\\\n8.90%\\\\n1936\\\\n$0.09\\\\n$1.11\\\\n12.90%\\\\n1937\\\\n$0.09\\\\n$1.17\\\\n5.10%\\\\n1938\\\\n$0.09\\\\n$1.13\\\\n-3.30%\\\\n1939\\\\n$0.09\\\\n$1.22\\\\n8.00%\\\\n1940\\\\n$0.10\\\\n$1.33\\\\n8.80%\\\\n1941\\\\n$0.13\\\\n$1.57\\\\n17.70%\\\\n1942\\\\n$0.17\\\\n$1.86\\\\n18.90%\\\\n1943\\\\n$0.20\\\\n$2.18\\\\n17.00%\\\\n1944\\\\n$0.22\\\\n$2.35\\\\n8.00%\\\\n1945\\\\n$0.23\\\\n$2.33\\\\n-1.00%\\\\n1946\\\\n$0.23\\\\n$2.06\\\\n-11.60%\\\\n1947\\\\n$0.25\\\\n$2.04\\\\n-1.10%\\\\n1948\\\\n$0.28\\\\n$2.12\\\\n4.10%\\\\n1949\\\\n$0.27\\\\n$2.11\\\\n-0.60%\\\\n1950\\\\n$0.30\\\\n$2.29\\\\n8.70%\\\\n1951\\\\n$0.35\\\\n$2.47\\\\n8.00%\\\\n1952\\\\n$0.37\\\\n$2.58\\\\n4.10%\\\\n1953\\\\n$0.39\\\\n$2.70\\\\n4.70%\\\\n1954\\\\n$0.39\\\\n$2.68\\\\n-0.60%\\\\n1955\\\\n$0.43\\\\n$2.87\\\\n7.10%\\\\n1956\\\\n$0.45\\\\n$2.93\\\\n2.10%\\\\n1957\\\\n$0.47\\\\n$2.99\\\\n2.10%\\\\n1958\\\\n$0.48\\\\n$2.97\\\\n-0.70%\\\\n1959\\\\n$0.52\\\\n$3.18\\\\n6.90%\\\\n1960\\\\n$0.54\\\\n$3.26\\\\n2.60%\\\\n1961\\\\n$0.56\\\\n$3.34\\\\n2.60%\\\\n1962\\\\n$0.60\\\\n$3.55\\\\n6.10%\\\\n1963\\\\n$0.64\\\\n$3.70\\\\n4.40%\\\\n1964\\\\n$0.69\\\\n$3.92\\\\n5.80%\\\\n1965\\\\n$0.74\\\\n$4.17\\\\n6.50%\\\\n1966\\\\n$0.81\\\\n$4.45\\\\n6.60%\\\\n1967\\\\n$0.86\\\\n$4.57\\\\n2.70%\\\\n1968\\\\n$0.94\\\\n$4.79\\\\n4.90%\\\\n1969\\\\n$1.02\\\\n$4.94\\\\n3.10%\\\\n1970\\\\n$1.07\\\\n$4.95\\\\n0.20%\\\\n1971\\\\n$1.17\\\\n$5.11\\\\n3.30%\\\\n1972\\\\n$1.28\\\\n$5.38\\\\n5.30%\\\\n1973\\\\n$1.43\\\\n$5.69\\\\n5.60%\\\\n1974\\\\n$1.55\\\\n$5.66\\\\n-0.50%\\\\n1975\\\\n$1.69\\\\n$5.65\\\\n-0.20%\\\\n1976\\\\n$1.87\\\\n$5.95\\\\n5.40%\\\\n1977\\\\n$2.08\\\\n$6.22\\\\n4.60%\\\\n1978\\\\n$2,352\\\\n$6,569\\\\n5.50%\\\\n1979\\\\n$2.63\\\\n$6.78\\\\n3.20%\\\\n1980\\\\n$2.86\\\\n$6.76\\\\n-0.30%\\\\n1981\\\\n$3.21\\\\n$6.93\\\\n2.50%\\\\n1982\\\\n$3.34\\\\n$6.81\\\\n-1.80%\\\\n1983\\\\n$3.63\\\\n$7.12\\\\n4.60%\\\\n1984\\\\n$4.04\\\\n$7.63\\\\n7.20%\\\\n1985\\\\n$4.34\\\\n$7.95\\\\n4.20%\\\\n1986\\\\n$4.58\\\\n$8.23\\\\n3.50%\\\\n1987\\\\n$4.86\\\\n$8.51\\\\n3.50%\\\\n1988\\\\n$5.24\\\\n$8.87\\\\n4.20%\\\\n1989\\\\n$5.64\\\\n$9.19\\\\n3.70%\\\\n1990\\\\n$5.96\\\\n$9.37\\\\n1.90%\\\\n1991\\\\n$6.16\\\\n$9.36\\\\n-0.10%\\\\n1992\\\\n$6.52\\\\n$9.69\\\\n3.50%\\\\n1993\\\\n$6.86\\\\n$9.95\\\\n2.80%\\\\n1994\\\\n$7.29\\\\n$10.35\\\\n4.00%\\\\n1995\\\\n$7.64\\\\n$10.63\\\\n2.70%\\\\n1996\\\\n$8.07\\\\n$11.03\\\\n3.80%\\\\n1997\\\\n$8.58\\\\n$11.52\\\\n4.40%\\\\n1998\\\\n$9.06\\\\n$12.04\\\\n4.50%\\\\n1999\\\\n$9.63\\\\n$12.61\\\\n4.80%\\\\n2000\\\\n$10.25\\\\n$13.13\\\\n4.10%\\\\n2001\\\\n$10.58\\\\n$13.26\\\\n1.00%\\\\n2002\\\\n$10.94\\\\n$13.49\\\\n1.70%\\\\n2003\\\\n$11.46\\\\n$13.88\\\\n2.90%\\\\n2004\\\\n$12.21\\\\n$14.41\\\\n3.80%\\\\n2005\\\\n$13.04\\\\n$14.91\\\\n3.50%\\\\n2006\\\\n$13.82\\\\n$15.34\\\\n2.90%\\\\n2007\\\\n$14.45\\\\n$15.63\\\\n1.90%\\\\n2008\\\\n$14.71\\\\n$15.61\\\\n-0.10%\\\\n2009\\\\n$14.45\\\\n$15.21\\\\n-2.50%\\\\n2010\\\\n$14.99\\\\n$15.60\\\\n2.60%\\\\n2011\\\\n$15.54\\\\n$15.84\\\\n1.60%\\\\n2012\\\\n$16.20\\\\n$16.20\\\\n2.20%\\\\n2013\\\\n$16.79\\\\n$16.50\\\\n1.80%\\\\n2014\\\\n$17.52\\\\n$16.90\\\\n2.50%\\\\n2015\\\\n$18.22\\\\n$17.39\\\\n2.90%\\\\n2016\\\\n$18.71\\\\n$17.66\\\\n1.60%\\\\n2017\\\\n$19.49\\\\n$18.05\\\\n2.20%\\\\n2018\\\\n$20.49\\\\n$18.57\\\\n2.90%\\\\n2019\\\\n$21.43\\\\n$19.09\\\\n2.2%\\\\n2020\\\\n$20.89\\\\n$18.38\\\\n-3.4%\\\\n2021\\\\n$23.00\\\\n$19.43\\\\n5.7%\\\\n2022\\\\n$25.46\\\\n$21.99\\\\n2.2%\\\\nCentury of US GDP Growth by Year\\\\nBecause political policies, world events, natural disasters, and other events can influence GDP, we’ve pulled together a comprehensive overview of the last 103 years of the American economy.\\\\n With that in mind, here’s the table:\\\\nPresident\\\\nBeginning Real GDP (trillions)\\\\nEnding Real GDP (trillions)\\\\nAverage Growth Rate\\\\nWarren G. Harding (R)\\\\n1921-1923\\\\n$0.69\\\\n$0.80\\\\n5.0%\\\\nCalvin Coolidge (R)\\\\n1923-1929\\\\n$0.80\\\\n$0.98\\\\n4.8%\\\\nHerbert Hoover (R)\\\\n1929-1933\\\\n$0.98\\\\n$0.82\\\\n- 4.6%\\\\nFranklin D. Roosevelt (D)\\\\n1933-1945\\\\n$0.82\\\\n$2.33\\\\n8.5%\\\\nHarry S. Truman (D)\\\\n1945-1953\\\\n$2.33\\\\n$2.70\\\\n1.7%\\\\nDwight D. Eisenhower (R)\\\\n1953-1961\\\\n$2.70\\\\n$3.34\\\\n3.0%\\\\nJohn F. Kennedy (D)\\\\n1961-1963\\\\n$3.34\\\\n$3.70\\\\n4.4%\\\\nLyndon B. Johnson (D)\\\\n1963–1969\\\\n$3.70\\\\n$4.94\\\\n4.9%\\\\nRichard Nixon (R)\\\\n1969-1974\\\\n$4.94\\\\n$5.66\\\\n2.8%\\\\nGerald Ford (R)\\\\n1974-1977\\\\n$5.66\\\\n$6.22\\\\n2.3%\\\\nJimmy Carter (D)\\\\n1977-1981\\\\n$6.22\\\\n$6.93\\\\n3.1%\\\\nRonald Reagan (R)\\\\n1981-1989\\\\n$6.93\\\\n$9.19\\\\n3.5%\\\\nGeorge H. W. Bush (R)\\\\n1989-1993\\\\n$9.19\\\\n$9.95\\\\n2.4%\\\\nBill Clinton (D)\\\\n1993-2001\\\\n$9.95\\\\n$13.26\\\\n3.6%\\\\nGeorge W. Bush (R)\\\\n2001-2009\\\\n$13.26\\\\n$15.21\\\\n1.7%\\\\nBarack Obama (D)\\\\n2009-2017\\\\n$15.21\\\\n$18.14\\\\n1.7%\\\\nDonald Trump (R)\\\\n2017-2021\\\\n$18.14\\\\n$19.42\\\\n2.0%\\\\nJoe Biden (D)2021-Incumbent\\\\n$19.42\\\\nNA\\\\nNA\\\\nSources\\\\nAlbert Einstein is said to have identified compound interest as mankind’s greatest invention. The full extent of the pandemic’s impact on the US and the global economy is still unknown, but it will take time for the country to recover fully.\\\\n2021-2023: COVID Aftermath\\\\nToday, there are still many uncertainties about the state of the US economy and the world at large. The first is meant to address the wage gap between men and women, the second to provide jobs and ease the burden of the Great Recession, and the last to make it easier to effectively prosecute hate crimes.\\\\n With the help of his secretary of labor, Frances Perkins, they stabilize the banks by introducing the Emergency Banking Act, raise federal revenue by ending prohibition (Beer-Wine Revenue Act), stabilize the dollar by temporarily abandoning the gold standard, save farms and homes from foreclosure by providing loans (Emergency Farm Mortgage Act and Home Owners Refinancing Act), and provide more jobs by creating the Civilian Conservation Corps.\\\\n\"}]', name='tavily_search_results_json', tool_call_id='call_783d8d6484ad4ad4af2efcacfc8978aa', artifact={'query': 'USA GDP past 3 years', 'follow_up_questions': None, 'answer': None, 'images': [], 'results': [{'title': 'U.S. GDP 1960-2024 - Macrotrends', 'url': 'https://www.macrotrends.net/global-metrics/countries/USA/united-states/gdp-gross-domestic-product', 'content': '| 2023 | $27,360.94B | $81,695 | 2.54% | | 2022 | $25,744.11B | $77,247 | 1.94% | | 2021 | $23,594.03B | $71,056 | 5.80% | | 2020 | $21,322.95B | $64,317 | -2.21% | | 2019 | $21,521.40B | $65,548 | 2.47% | | 2018 | $20,656.52B | $63,201 | 2.97% | | 2017 | $19,612.10B | $60,322 | 2.46% | | 2016 | $18,804.91B | $58,207 | 1.82% | | 2015 | $18,295.02B | $57,040 | 2.95% | | 2014 | $17,608.14B | $55,304 | 2.52% | | 2013 | $16,880.68B | $53,410 | 2.12% | | 2012 | $16,253.97B | $51,784 | 2.29% | | 2011 | $15,599.73B | $50,066 | 1.56% |', 'score': 0.767638, 'raw_content': None}, {'title': 'US GDP by Year - Multpl', 'url': 'https://www.multpl.com/us-gdp/table/by-year', 'content': 'US GDP by Year - Multpl S&P 500 PE Ratio US GDP by Year | Jun 30, 2024 | \\u2002 29.02 trillion | | Dec 31, 2023 | \\u2002 28.30 trillion | | Dec 31, 2022 | \\u2002 26.73 trillion | | Dec 31, 2021 | \\u2002 24.78 trillion | | Dec 31, 2020 | \\u2002 22.07 trillion | | Dec 31, 2019 | \\u2002 21.93 trillion | | Dec 31, 2018 | \\u2002 20.92 trillion | | Dec 31, 2017 | \\u2002 20.04 trillion | | Dec 31, 2016 | \\u2002 19.09 trillion | | Dec 31, 2015 | \\u2002 18.44 trillion | | Dec 31, 2014 | \\u2002 17.91 trillion | | Dec 31, 2013 | \\u2002 17.19 trillion | US Real GDP US Real GDP Growth Rate', 'score': 0.7608822, 'raw_content': None}, {'title': 'U.S. GDP Growth Rate 1961-2024 - Macrotrends', 'url': 'https://www.macrotrends.net/global-metrics/countries/USA/united-states/gdp-growth-rate', 'content': 'U.S. GDP Growth Rate 1961-2024 | MacroTrends U.S. GDP Growth Rate 1961-2024 GDP Growth Rate Annual percentage growth rate of GDP at market prices based on constant local currency. U.S. gdp growth rate for 2023 was 2.54%, a 0.61% increase from 2022. U.S. gdp growth rate for 2022 was 1.94%, a 3.86% decline from 2021. U.S. gdp growth rate for 2021 was 5.80%, a 8.01% increase from 2020. U.S. gdp growth rate for 2020 was -2.21%, a 4.68% decline from 2019. | Country Name | GDP Growth (%) | | U.S. GDP Growth Rate - Historical Data | | U.S. GDP Growth Rate 1961-2024 |  | | U.S. GDP Growth Rate 1961-2024 |  |', 'score': 0.7185356, 'raw_content': None}, {'title': 'Gross Domestic Product | U.S. Bureau of Economic Analysis (BEA)', 'url': 'https://www.bea.gov/data/gdp/gross-domestic-product', 'content': 'Gross Domestic Product | U.S. Bureau of Economic Analysis (BEA) Main navigation Data News Releases BEA Data Real gross domestic product (GDP) increased at an annual rate of 2.8 percent in the third quarter of 2024, according to the \"advance\" estimate. Current Release Quick Guide: GDP Releases Real GDP: Percent change from preceding quarter, Q3\\'24 Adv - HP Real GDP: Percent change from preceding quarter, Q3\\'24 Adv - HP Full Release & Tables (PDF) GDP and the National Income and Product Account (NIPA) Historical Tables Supplemental Information & Additional Data Measuring the Economy: A Primer on GDP and the National Income and Product Accounts News Release Archive Vintage History of Quarterly Gross Domestic Product (GDP) and Gross Domestic Income (GDI) Estimates', 'score': 0.6836946, 'raw_content': None}, {'title': 'US GDP by Year: A Century of Essential Facts (1920-2024) - Fortunly', 'url': 'https://fortunly.com/statistics/us-gdp-by-year-guide/', 'content': 'Year\\nNominal GDP\\nReal GDP\\n% Change\\n1920\\nN/A\\n0.67\\nN/A\\n1921\\nN/A\\n0.67\\n0.00%\\n1922\\nN/A\\n0.71\\n5.97%\\n1923\\nN/A\\n0.8\\n12.68%\\n1924\\nN/A\\n0.83\\n3.75%\\n1925\\nN/A\\n0.85\\n2.41%\\n1926\\nN/A\\n0.9\\n5.88%\\n1927\\nN/A\\n0.91\\n1.11%\\n1928\\nN/A\\n0.92\\n1.10%\\n1929\\n$0.11\\n$0.98\\n6.52%\\n1930\\n$0.09\\n$1.02\\n-8.50%\\n1931\\n$0.08\\n$0.95\\n-6.40%\\n1932\\n$0.06\\n$0.83\\n-12.90%\\n1933\\n$0.06\\n$0.82\\n-1.20%\\n1934\\n$0.07\\n$0.91\\n10.80%\\n1935\\n$0.07\\n$0.99\\n8.90%\\n1936\\n$0.09\\n$1.11\\n12.90%\\n1937\\n$0.09\\n$1.17\\n5.10%\\n1938\\n$0.09\\n$1.13\\n-3.30%\\n1939\\n$0.09\\n$1.22\\n8.00%\\n1940\\n$0.10\\n$1.33\\n8.80%\\n1941\\n$0.13\\n$1.57\\n17.70%\\n1942\\n$0.17\\n$1.86\\n18.90%\\n1943\\n$0.20\\n$2.18\\n17.00%\\n1944\\n$0.22\\n$2.35\\n8.00%\\n1945\\n$0.23\\n$2.33\\n-1.00%\\n1946\\n$0.23\\n$2.06\\n-11.60%\\n1947\\n$0.25\\n$2.04\\n-1.10%\\n1948\\n$0.28\\n$2.12\\n4.10%\\n1949\\n$0.27\\n$2.11\\n-0.60%\\n1950\\n$0.30\\n$2.29\\n8.70%\\n1951\\n$0.35\\n$2.47\\n8.00%\\n1952\\n$0.37\\n$2.58\\n4.10%\\n1953\\n$0.39\\n$2.70\\n4.70%\\n1954\\n$0.39\\n$2.68\\n-0.60%\\n1955\\n$0.43\\n$2.87\\n7.10%\\n1956\\n$0.45\\n$2.93\\n2.10%\\n1957\\n$0.47\\n$2.99\\n2.10%\\n1958\\n$0.48\\n$2.97\\n-0.70%\\n1959\\n$0.52\\n$3.18\\n6.90%\\n1960\\n$0.54\\n$3.26\\n2.60%\\n1961\\n$0.56\\n$3.34\\n2.60%\\n1962\\n$0.60\\n$3.55\\n6.10%\\n1963\\n$0.64\\n$3.70\\n4.40%\\n1964\\n$0.69\\n$3.92\\n5.80%\\n1965\\n$0.74\\n$4.17\\n6.50%\\n1966\\n$0.81\\n$4.45\\n6.60%\\n1967\\n$0.86\\n$4.57\\n2.70%\\n1968\\n$0.94\\n$4.79\\n4.90%\\n1969\\n$1.02\\n$4.94\\n3.10%\\n1970\\n$1.07\\n$4.95\\n0.20%\\n1971\\n$1.17\\n$5.11\\n3.30%\\n1972\\n$1.28\\n$5.38\\n5.30%\\n1973\\n$1.43\\n$5.69\\n5.60%\\n1974\\n$1.55\\n$5.66\\n-0.50%\\n1975\\n$1.69\\n$5.65\\n-0.20%\\n1976\\n$1.87\\n$5.95\\n5.40%\\n1977\\n$2.08\\n$6.22\\n4.60%\\n1978\\n$2,352\\n$6,569\\n5.50%\\n1979\\n$2.63\\n$6.78\\n3.20%\\n1980\\n$2.86\\n$6.76\\n-0.30%\\n1981\\n$3.21\\n$6.93\\n2.50%\\n1982\\n$3.34\\n$6.81\\n-1.80%\\n1983\\n$3.63\\n$7.12\\n4.60%\\n1984\\n$4.04\\n$7.63\\n7.20%\\n1985\\n$4.34\\n$7.95\\n4.20%\\n1986\\n$4.58\\n$8.23\\n3.50%\\n1987\\n$4.86\\n$8.51\\n3.50%\\n1988\\n$5.24\\n$8.87\\n4.20%\\n1989\\n$5.64\\n$9.19\\n3.70%\\n1990\\n$5.96\\n$9.37\\n1.90%\\n1991\\n$6.16\\n$9.36\\n-0.10%\\n1992\\n$6.52\\n$9.69\\n3.50%\\n1993\\n$6.86\\n$9.95\\n2.80%\\n1994\\n$7.29\\n$10.35\\n4.00%\\n1995\\n$7.64\\n$10.63\\n2.70%\\n1996\\n$8.07\\n$11.03\\n3.80%\\n1997\\n$8.58\\n$11.52\\n4.40%\\n1998\\n$9.06\\n$12.04\\n4.50%\\n1999\\n$9.63\\n$12.61\\n4.80%\\n2000\\n$10.25\\n$13.13\\n4.10%\\n2001\\n$10.58\\n$13.26\\n1.00%\\n2002\\n$10.94\\n$13.49\\n1.70%\\n2003\\n$11.46\\n$13.88\\n2.90%\\n2004\\n$12.21\\n$14.41\\n3.80%\\n2005\\n$13.04\\n$14.91\\n3.50%\\n2006\\n$13.82\\n$15.34\\n2.90%\\n2007\\n$14.45\\n$15.63\\n1.90%\\n2008\\n$14.71\\n$15.61\\n-0.10%\\n2009\\n$14.45\\n$15.21\\n-2.50%\\n2010\\n$14.99\\n$15.60\\n2.60%\\n2011\\n$15.54\\n$15.84\\n1.60%\\n2012\\n$16.20\\n$16.20\\n2.20%\\n2013\\n$16.79\\n$16.50\\n1.80%\\n2014\\n$17.52\\n$16.90\\n2.50%\\n2015\\n$18.22\\n$17.39\\n2.90%\\n2016\\n$18.71\\n$17.66\\n1.60%\\n2017\\n$19.49\\n$18.05\\n2.20%\\n2018\\n$20.49\\n$18.57\\n2.90%\\n2019\\n$21.43\\n$19.09\\n2.2%\\n2020\\n$20.89\\n$18.38\\n-3.4%\\n2021\\n$23.00\\n$19.43\\n5.7%\\n2022\\n$25.46\\n$21.99\\n2.2%\\nCentury of US GDP Growth by Year\\nBecause political policies, world events, natural disasters, and other events can influence GDP, we’ve pulled together a comprehensive overview of the last 103 years of the American economy.\\n With that in mind, here’s the table:\\nPresident\\nBeginning Real GDP (trillions)\\nEnding Real GDP (trillions)\\nAverage Growth Rate\\nWarren G. Harding (R)\\n1921-1923\\n$0.69\\n$0.80\\n5.0%\\nCalvin Coolidge (R)\\n1923-1929\\n$0.80\\n$0.98\\n4.8%\\nHerbert Hoover (R)\\n1929-1933\\n$0.98\\n$0.82\\n- 4.6%\\nFranklin D. Roosevelt (D)\\n1933-1945\\n$0.82\\n$2.33\\n8.5%\\nHarry S. Truman (D)\\n1945-1953\\n$2.33\\n$2.70\\n1.7%\\nDwight D. Eisenhower (R)\\n1953-1961\\n$2.70\\n$3.34\\n3.0%\\nJohn F. Kennedy (D)\\n1961-1963\\n$3.34\\n$3.70\\n4.4%\\nLyndon B. Johnson (D)\\n1963–1969\\n$3.70\\n$4.94\\n4.9%\\nRichard Nixon (R)\\n1969-1974\\n$4.94\\n$5.66\\n2.8%\\nGerald Ford (R)\\n1974-1977\\n$5.66\\n$6.22\\n2.3%\\nJimmy Carter (D)\\n1977-1981\\n$6.22\\n$6.93\\n3.1%\\nRonald Reagan (R)\\n1981-1989\\n$6.93\\n$9.19\\n3.5%\\nGeorge H. W. Bush (R)\\n1989-1993\\n$9.19\\n$9.95\\n2.4%\\nBill Clinton (D)\\n1993-2001\\n$9.95\\n$13.26\\n3.6%\\nGeorge W. Bush (R)\\n2001-2009\\n$13.26\\n$15.21\\n1.7%\\nBarack Obama (D)\\n2009-2017\\n$15.21\\n$18.14\\n1.7%\\nDonald Trump (R)\\n2017-2021\\n$18.14\\n$19.42\\n2.0%\\nJoe Biden (D)2021-Incumbent\\n$19.42\\nNA\\nNA\\nSources\\nAlbert Einstein is said to have identified compound interest as mankind’s greatest invention. The full extent of the pandemic’s impact on the US and the global economy is still unknown, but it will take time for the country to recover fully.\\n2021-2023: COVID Aftermath\\nToday, there are still many uncertainties about the state of the US economy and the world at large. The first is meant to address the wage gap between men and women, the second to provide jobs and ease the burden of the Great Recession, and the last to make it easier to effectively prosecute hate crimes.\\n With the help of his secretary of labor, Frances Perkins, they stabilize the banks by introducing the Emergency Banking Act, raise federal revenue by ending prohibition (Beer-Wine Revenue Act), stabilize the dollar by temporarily abandoning the gold standard, save farms and homes from foreclosure by providing loans (Emergency Farm Mortgage Act and Home Owners Refinancing Act), and provide more jobs by creating the Civilian Conservation Corps.\\n', 'score': 0.6152965, 'raw_content': None}], 'response_time': 1.86})]}}\n",
      "-----\n"
     ]
    },
    {
     "ename": "ValueError",
     "evalue": "Received unsupported message type for Ollama.",
     "output_type": "error",
     "traceback": [
      "\u001b[1;31m---------------------------------------------------------------------------\u001b[0m",
      "\u001b[1;31mValueError\u001b[0m                                Traceback (most recent call last)",
      "Cell \u001b[1;32mIn[23], line 15\u001b[0m\n\u001b[0;32m      1\u001b[0m \u001b[38;5;28;01mfrom\u001b[39;00m \u001b[38;5;21;01mlangchain\u001b[39;00m\u001b[38;5;21;01m.\u001b[39;00m\u001b[38;5;21;01mschema\u001b[39;00m \u001b[38;5;28;01mimport\u001b[39;00m HumanMessage\n\u001b[0;32m      2\u001b[0m events \u001b[38;5;241m=\u001b[39m graph\u001b[38;5;241m.\u001b[39mstream(\n\u001b[0;32m      3\u001b[0m     {\n\u001b[0;32m      4\u001b[0m         \u001b[38;5;124m\"\u001b[39m\u001b[38;5;124mmessages\u001b[39m\u001b[38;5;124m\"\u001b[39m: [\n\u001b[1;32m   (...)\u001b[0m\n\u001b[0;32m     12\u001b[0m     {\u001b[38;5;124m\"\u001b[39m\u001b[38;5;124mrecursion_limit\u001b[39m\u001b[38;5;124m\"\u001b[39m: \u001b[38;5;241m10\u001b[39m}\n\u001b[0;32m     13\u001b[0m )\n\u001b[1;32m---> 15\u001b[0m \u001b[38;5;28;01mfor\u001b[39;00m s \u001b[38;5;129;01min\u001b[39;00m events:\n\u001b[0;32m     16\u001b[0m     \u001b[38;5;28mprint\u001b[39m(s)\n\u001b[0;32m     17\u001b[0m     \u001b[38;5;28mprint\u001b[39m(\u001b[38;5;124m\"\u001b[39m\u001b[38;5;124m-----\u001b[39m\u001b[38;5;124m\"\u001b[39m)\n",
      "File \u001b[1;32mc:\\Users\\dbfru\\anaconda3\\envs\\llm_agent\\lib\\site-packages\\langgraph\\pregel\\__init__.py:1656\u001b[0m, in \u001b[0;36mPregel.stream\u001b[1;34m(self, input, config, stream_mode, output_keys, interrupt_before, interrupt_after, debug, subgraphs)\u001b[0m\n\u001b[0;32m   1650\u001b[0m     \u001b[38;5;66;03m# Similarly to Bulk Synchronous Parallel / Pregel model\u001b[39;00m\n\u001b[0;32m   1651\u001b[0m     \u001b[38;5;66;03m# computation proceeds in steps, while there are channel updates\u001b[39;00m\n\u001b[0;32m   1652\u001b[0m     \u001b[38;5;66;03m# channel updates from step N are only visible in step N+1\u001b[39;00m\n\u001b[0;32m   1653\u001b[0m     \u001b[38;5;66;03m# channels are guaranteed to be immutable for the duration of the step,\u001b[39;00m\n\u001b[0;32m   1654\u001b[0m     \u001b[38;5;66;03m# with channel updates applied only at the transition between steps\u001b[39;00m\n\u001b[0;32m   1655\u001b[0m     \u001b[38;5;28;01mwhile\u001b[39;00m loop\u001b[38;5;241m.\u001b[39mtick(input_keys\u001b[38;5;241m=\u001b[39m\u001b[38;5;28mself\u001b[39m\u001b[38;5;241m.\u001b[39minput_channels):\n\u001b[1;32m-> 1656\u001b[0m         \u001b[38;5;28;01mfor\u001b[39;00m _ \u001b[38;5;129;01min\u001b[39;00m runner\u001b[38;5;241m.\u001b[39mtick(\n\u001b[0;32m   1657\u001b[0m             loop\u001b[38;5;241m.\u001b[39mtasks\u001b[38;5;241m.\u001b[39mvalues(),\n\u001b[0;32m   1658\u001b[0m             timeout\u001b[38;5;241m=\u001b[39m\u001b[38;5;28mself\u001b[39m\u001b[38;5;241m.\u001b[39mstep_timeout,\n\u001b[0;32m   1659\u001b[0m             retry_policy\u001b[38;5;241m=\u001b[39m\u001b[38;5;28mself\u001b[39m\u001b[38;5;241m.\u001b[39mretry_policy,\n\u001b[0;32m   1660\u001b[0m             get_waiter\u001b[38;5;241m=\u001b[39mget_waiter,\n\u001b[0;32m   1661\u001b[0m         ):\n\u001b[0;32m   1662\u001b[0m             \u001b[38;5;66;03m# emit output\u001b[39;00m\n\u001b[0;32m   1663\u001b[0m             \u001b[38;5;28;01myield from\u001b[39;00m output()\n\u001b[0;32m   1664\u001b[0m \u001b[38;5;66;03m# emit output\u001b[39;00m\n",
      "File \u001b[1;32mc:\\Users\\dbfru\\anaconda3\\envs\\llm_agent\\lib\\site-packages\\langgraph\\pregel\\runner.py:167\u001b[0m, in \u001b[0;36mPregelRunner.tick\u001b[1;34m(self, tasks, reraise, timeout, retry_policy, get_waiter)\u001b[0m\n\u001b[0;32m    165\u001b[0m t \u001b[38;5;241m=\u001b[39m tasks[\u001b[38;5;241m0\u001b[39m]\n\u001b[0;32m    166\u001b[0m \u001b[38;5;28;01mtry\u001b[39;00m:\n\u001b[1;32m--> 167\u001b[0m     \u001b[43mrun_with_retry\u001b[49m\u001b[43m(\u001b[49m\n\u001b[0;32m    168\u001b[0m \u001b[43m        \u001b[49m\u001b[43mt\u001b[49m\u001b[43m,\u001b[49m\n\u001b[0;32m    169\u001b[0m \u001b[43m        \u001b[49m\u001b[43mretry_policy\u001b[49m\u001b[43m,\u001b[49m\n\u001b[0;32m    170\u001b[0m \u001b[43m        \u001b[49m\u001b[43mconfigurable\u001b[49m\u001b[38;5;241;43m=\u001b[39;49m\u001b[43m{\u001b[49m\n\u001b[0;32m    171\u001b[0m \u001b[43m            \u001b[49m\u001b[43mCONFIG_KEY_SEND\u001b[49m\u001b[43m:\u001b[49m\u001b[43m \u001b[49m\u001b[43mpartial\u001b[49m\u001b[43m(\u001b[49m\u001b[43mwriter\u001b[49m\u001b[43m,\u001b[49m\u001b[43m \u001b[49m\u001b[43mt\u001b[49m\u001b[43m)\u001b[49m\u001b[43m,\u001b[49m\n\u001b[0;32m    172\u001b[0m \u001b[43m            \u001b[49m\u001b[43mCONFIG_KEY_CALL\u001b[49m\u001b[43m:\u001b[49m\u001b[43m \u001b[49m\u001b[43mpartial\u001b[49m\u001b[43m(\u001b[49m\u001b[43mcall\u001b[49m\u001b[43m,\u001b[49m\u001b[43m \u001b[49m\u001b[43mt\u001b[49m\u001b[43m)\u001b[49m\u001b[43m,\u001b[49m\n\u001b[0;32m    173\u001b[0m \u001b[43m        \u001b[49m\u001b[43m}\u001b[49m\u001b[43m,\u001b[49m\n\u001b[0;32m    174\u001b[0m \u001b[43m    \u001b[49m\u001b[43m)\u001b[49m\n\u001b[0;32m    175\u001b[0m     \u001b[38;5;28mself\u001b[39m\u001b[38;5;241m.\u001b[39mcommit(t, \u001b[38;5;28;01mNone\u001b[39;00m)\n\u001b[0;32m    176\u001b[0m \u001b[38;5;28;01mexcept\u001b[39;00m \u001b[38;5;167;01mException\u001b[39;00m \u001b[38;5;28;01mas\u001b[39;00m exc:\n",
      "File \u001b[1;32mc:\\Users\\dbfru\\anaconda3\\envs\\llm_agent\\lib\\site-packages\\langgraph\\pregel\\retry.py:40\u001b[0m, in \u001b[0;36mrun_with_retry\u001b[1;34m(task, retry_policy, configurable)\u001b[0m\n\u001b[0;32m     38\u001b[0m     task\u001b[38;5;241m.\u001b[39mwrites\u001b[38;5;241m.\u001b[39mclear()\n\u001b[0;32m     39\u001b[0m     \u001b[38;5;66;03m# run the task\u001b[39;00m\n\u001b[1;32m---> 40\u001b[0m     \u001b[38;5;28;01mreturn\u001b[39;00m \u001b[43mtask\u001b[49m\u001b[38;5;241;43m.\u001b[39;49m\u001b[43mproc\u001b[49m\u001b[38;5;241;43m.\u001b[39;49m\u001b[43minvoke\u001b[49m\u001b[43m(\u001b[49m\u001b[43mtask\u001b[49m\u001b[38;5;241;43m.\u001b[39;49m\u001b[43minput\u001b[49m\u001b[43m,\u001b[49m\u001b[43m \u001b[49m\u001b[43mconfig\u001b[49m\u001b[43m)\u001b[49m\n\u001b[0;32m     41\u001b[0m \u001b[38;5;28;01mexcept\u001b[39;00m ParentCommand \u001b[38;5;28;01mas\u001b[39;00m exc:\n\u001b[0;32m     42\u001b[0m     ns: \u001b[38;5;28mstr\u001b[39m \u001b[38;5;241m=\u001b[39m config[CONF][CONFIG_KEY_CHECKPOINT_NS]\n",
      "File \u001b[1;32mc:\\Users\\dbfru\\anaconda3\\envs\\llm_agent\\lib\\site-packages\\langgraph\\utils\\runnable.py:408\u001b[0m, in \u001b[0;36mRunnableSeq.invoke\u001b[1;34m(self, input, config, **kwargs)\u001b[0m\n\u001b[0;32m    404\u001b[0m config \u001b[38;5;241m=\u001b[39m patch_config(\n\u001b[0;32m    405\u001b[0m     config, callbacks\u001b[38;5;241m=\u001b[39mrun_manager\u001b[38;5;241m.\u001b[39mget_child(\u001b[38;5;124mf\u001b[39m\u001b[38;5;124m\"\u001b[39m\u001b[38;5;124mseq:step:\u001b[39m\u001b[38;5;132;01m{\u001b[39;00mi\u001b[38;5;241m+\u001b[39m\u001b[38;5;241m1\u001b[39m\u001b[38;5;132;01m}\u001b[39;00m\u001b[38;5;124m\"\u001b[39m)\n\u001b[0;32m    406\u001b[0m )\n\u001b[0;32m    407\u001b[0m \u001b[38;5;28;01mif\u001b[39;00m i \u001b[38;5;241m==\u001b[39m \u001b[38;5;241m0\u001b[39m:\n\u001b[1;32m--> 408\u001b[0m     \u001b[38;5;28minput\u001b[39m \u001b[38;5;241m=\u001b[39m step\u001b[38;5;241m.\u001b[39minvoke(\u001b[38;5;28minput\u001b[39m, config, \u001b[38;5;241m*\u001b[39m\u001b[38;5;241m*\u001b[39mkwargs)\n\u001b[0;32m    409\u001b[0m \u001b[38;5;28;01melse\u001b[39;00m:\n\u001b[0;32m    410\u001b[0m     \u001b[38;5;28minput\u001b[39m \u001b[38;5;241m=\u001b[39m step\u001b[38;5;241m.\u001b[39minvoke(\u001b[38;5;28minput\u001b[39m, config)\n",
      "File \u001b[1;32mc:\\Users\\dbfru\\anaconda3\\envs\\llm_agent\\lib\\site-packages\\langgraph\\utils\\runnable.py:184\u001b[0m, in \u001b[0;36mRunnableCallable.invoke\u001b[1;34m(self, input, config, **kwargs)\u001b[0m\n\u001b[0;32m    182\u001b[0m \u001b[38;5;28;01melse\u001b[39;00m:\n\u001b[0;32m    183\u001b[0m     context\u001b[38;5;241m.\u001b[39mrun(_set_config_context, config)\n\u001b[1;32m--> 184\u001b[0m     ret \u001b[38;5;241m=\u001b[39m context\u001b[38;5;241m.\u001b[39mrun(\u001b[38;5;28mself\u001b[39m\u001b[38;5;241m.\u001b[39mfunc, \u001b[38;5;28minput\u001b[39m, \u001b[38;5;241m*\u001b[39m\u001b[38;5;241m*\u001b[39mkwargs)\n\u001b[0;32m    185\u001b[0m \u001b[38;5;28;01mif\u001b[39;00m \u001b[38;5;28misinstance\u001b[39m(ret, Runnable) \u001b[38;5;129;01mand\u001b[39;00m \u001b[38;5;28mself\u001b[39m\u001b[38;5;241m.\u001b[39mrecurse:\n\u001b[0;32m    186\u001b[0m     \u001b[38;5;28;01mreturn\u001b[39;00m ret\u001b[38;5;241m.\u001b[39minvoke(\u001b[38;5;28minput\u001b[39m, config)\n",
      "Cell \u001b[1;32mIn[8], line 5\u001b[0m, in \u001b[0;36magent_node\u001b[1;34m(state, agent, name)\u001b[0m\n\u001b[0;32m      4\u001b[0m \u001b[38;5;28;01mdef\u001b[39;00m \u001b[38;5;21magent_node\u001b[39m(state, agent, name):\n\u001b[1;32m----> 5\u001b[0m     result \u001b[38;5;241m=\u001b[39m \u001b[43magent\u001b[49m\u001b[38;5;241;43m.\u001b[39;49m\u001b[43minvoke\u001b[49m\u001b[43m(\u001b[49m\u001b[43mstate\u001b[49m\u001b[43m)\u001b[49m\n\u001b[0;32m      7\u001b[0m     \u001b[38;5;28;01mif\u001b[39;00m \u001b[38;5;28misinstance\u001b[39m(result, ToolMessage):\n\u001b[0;32m      8\u001b[0m         \u001b[38;5;28;01mpass\u001b[39;00m\n",
      "File \u001b[1;32mc:\\Users\\dbfru\\anaconda3\\envs\\llm_agent\\lib\\site-packages\\langchain_core\\runnables\\base.py:3024\u001b[0m, in \u001b[0;36mRunnableSequence.invoke\u001b[1;34m(self, input, config, **kwargs)\u001b[0m\n\u001b[0;32m   3022\u001b[0m             \u001b[38;5;28minput\u001b[39m \u001b[38;5;241m=\u001b[39m context\u001b[38;5;241m.\u001b[39mrun(step\u001b[38;5;241m.\u001b[39minvoke, \u001b[38;5;28minput\u001b[39m, config, \u001b[38;5;241m*\u001b[39m\u001b[38;5;241m*\u001b[39mkwargs)\n\u001b[0;32m   3023\u001b[0m         \u001b[38;5;28;01melse\u001b[39;00m:\n\u001b[1;32m-> 3024\u001b[0m             \u001b[38;5;28minput\u001b[39m \u001b[38;5;241m=\u001b[39m \u001b[43mcontext\u001b[49m\u001b[38;5;241;43m.\u001b[39;49m\u001b[43mrun\u001b[49m\u001b[43m(\u001b[49m\u001b[43mstep\u001b[49m\u001b[38;5;241;43m.\u001b[39;49m\u001b[43minvoke\u001b[49m\u001b[43m,\u001b[49m\u001b[43m \u001b[49m\u001b[38;5;28;43minput\u001b[39;49m\u001b[43m,\u001b[49m\u001b[43m \u001b[49m\u001b[43mconfig\u001b[49m\u001b[43m)\u001b[49m\n\u001b[0;32m   3025\u001b[0m \u001b[38;5;66;03m# finish the root run\u001b[39;00m\n\u001b[0;32m   3026\u001b[0m \u001b[38;5;28;01mexcept\u001b[39;00m \u001b[38;5;167;01mBaseException\u001b[39;00m \u001b[38;5;28;01mas\u001b[39;00m e:\n",
      "File \u001b[1;32mc:\\Users\\dbfru\\anaconda3\\envs\\llm_agent\\lib\\site-packages\\langchain_core\\runnables\\base.py:5354\u001b[0m, in \u001b[0;36mRunnableBindingBase.invoke\u001b[1;34m(self, input, config, **kwargs)\u001b[0m\n\u001b[0;32m   5348\u001b[0m \u001b[38;5;28;01mdef\u001b[39;00m \u001b[38;5;21minvoke\u001b[39m(\n\u001b[0;32m   5349\u001b[0m     \u001b[38;5;28mself\u001b[39m,\n\u001b[0;32m   5350\u001b[0m     \u001b[38;5;28minput\u001b[39m: Input,\n\u001b[0;32m   5351\u001b[0m     config: Optional[RunnableConfig] \u001b[38;5;241m=\u001b[39m \u001b[38;5;28;01mNone\u001b[39;00m,\n\u001b[0;32m   5352\u001b[0m     \u001b[38;5;241m*\u001b[39m\u001b[38;5;241m*\u001b[39mkwargs: Optional[Any],\n\u001b[0;32m   5353\u001b[0m ) \u001b[38;5;241m-\u001b[39m\u001b[38;5;241m>\u001b[39m Output:\n\u001b[1;32m-> 5354\u001b[0m     \u001b[38;5;28;01mreturn\u001b[39;00m \u001b[38;5;28mself\u001b[39m\u001b[38;5;241m.\u001b[39mbound\u001b[38;5;241m.\u001b[39minvoke(\n\u001b[0;32m   5355\u001b[0m         \u001b[38;5;28minput\u001b[39m,\n\u001b[0;32m   5356\u001b[0m         \u001b[38;5;28mself\u001b[39m\u001b[38;5;241m.\u001b[39m_merge_configs(config),\n\u001b[0;32m   5357\u001b[0m         \u001b[38;5;241m*\u001b[39m\u001b[38;5;241m*\u001b[39m{\u001b[38;5;241m*\u001b[39m\u001b[38;5;241m*\u001b[39m\u001b[38;5;28mself\u001b[39m\u001b[38;5;241m.\u001b[39mkwargs, \u001b[38;5;241m*\u001b[39m\u001b[38;5;241m*\u001b[39mkwargs},\n\u001b[0;32m   5358\u001b[0m     )\n",
      "File \u001b[1;32mc:\\Users\\dbfru\\anaconda3\\envs\\llm_agent\\lib\\site-packages\\langchain_core\\language_models\\chat_models.py:286\u001b[0m, in \u001b[0;36mBaseChatModel.invoke\u001b[1;34m(self, input, config, stop, **kwargs)\u001b[0m\n\u001b[0;32m    275\u001b[0m \u001b[38;5;28;01mdef\u001b[39;00m \u001b[38;5;21minvoke\u001b[39m(\n\u001b[0;32m    276\u001b[0m     \u001b[38;5;28mself\u001b[39m,\n\u001b[0;32m    277\u001b[0m     \u001b[38;5;28minput\u001b[39m: LanguageModelInput,\n\u001b[1;32m   (...)\u001b[0m\n\u001b[0;32m    281\u001b[0m     \u001b[38;5;241m*\u001b[39m\u001b[38;5;241m*\u001b[39mkwargs: Any,\n\u001b[0;32m    282\u001b[0m ) \u001b[38;5;241m-\u001b[39m\u001b[38;5;241m>\u001b[39m BaseMessage:\n\u001b[0;32m    283\u001b[0m     config \u001b[38;5;241m=\u001b[39m ensure_config(config)\n\u001b[0;32m    284\u001b[0m     \u001b[38;5;28;01mreturn\u001b[39;00m cast(\n\u001b[0;32m    285\u001b[0m         ChatGeneration,\n\u001b[1;32m--> 286\u001b[0m         \u001b[38;5;28mself\u001b[39m\u001b[38;5;241m.\u001b[39mgenerate_prompt(\n\u001b[0;32m    287\u001b[0m             [\u001b[38;5;28mself\u001b[39m\u001b[38;5;241m.\u001b[39m_convert_input(\u001b[38;5;28minput\u001b[39m)],\n\u001b[0;32m    288\u001b[0m             stop\u001b[38;5;241m=\u001b[39mstop,\n\u001b[0;32m    289\u001b[0m             callbacks\u001b[38;5;241m=\u001b[39mconfig\u001b[38;5;241m.\u001b[39mget(\u001b[38;5;124m\"\u001b[39m\u001b[38;5;124mcallbacks\u001b[39m\u001b[38;5;124m\"\u001b[39m),\n\u001b[0;32m    290\u001b[0m             tags\u001b[38;5;241m=\u001b[39mconfig\u001b[38;5;241m.\u001b[39mget(\u001b[38;5;124m\"\u001b[39m\u001b[38;5;124mtags\u001b[39m\u001b[38;5;124m\"\u001b[39m),\n\u001b[0;32m    291\u001b[0m             metadata\u001b[38;5;241m=\u001b[39mconfig\u001b[38;5;241m.\u001b[39mget(\u001b[38;5;124m\"\u001b[39m\u001b[38;5;124mmetadata\u001b[39m\u001b[38;5;124m\"\u001b[39m),\n\u001b[0;32m    292\u001b[0m             run_name\u001b[38;5;241m=\u001b[39mconfig\u001b[38;5;241m.\u001b[39mget(\u001b[38;5;124m\"\u001b[39m\u001b[38;5;124mrun_name\u001b[39m\u001b[38;5;124m\"\u001b[39m),\n\u001b[0;32m    293\u001b[0m             run_id\u001b[38;5;241m=\u001b[39mconfig\u001b[38;5;241m.\u001b[39mpop(\u001b[38;5;124m\"\u001b[39m\u001b[38;5;124mrun_id\u001b[39m\u001b[38;5;124m\"\u001b[39m, \u001b[38;5;28;01mNone\u001b[39;00m),\n\u001b[0;32m    294\u001b[0m             \u001b[38;5;241m*\u001b[39m\u001b[38;5;241m*\u001b[39mkwargs,\n\u001b[0;32m    295\u001b[0m         )\u001b[38;5;241m.\u001b[39mgenerations[\u001b[38;5;241m0\u001b[39m][\u001b[38;5;241m0\u001b[39m],\n\u001b[0;32m    296\u001b[0m     )\u001b[38;5;241m.\u001b[39mmessage\n",
      "File \u001b[1;32mc:\\Users\\dbfru\\anaconda3\\envs\\llm_agent\\lib\\site-packages\\langchain_core\\language_models\\chat_models.py:786\u001b[0m, in \u001b[0;36mBaseChatModel.generate_prompt\u001b[1;34m(self, prompts, stop, callbacks, **kwargs)\u001b[0m\n\u001b[0;32m    778\u001b[0m \u001b[38;5;28;01mdef\u001b[39;00m \u001b[38;5;21mgenerate_prompt\u001b[39m(\n\u001b[0;32m    779\u001b[0m     \u001b[38;5;28mself\u001b[39m,\n\u001b[0;32m    780\u001b[0m     prompts: \u001b[38;5;28mlist\u001b[39m[PromptValue],\n\u001b[1;32m   (...)\u001b[0m\n\u001b[0;32m    783\u001b[0m     \u001b[38;5;241m*\u001b[39m\u001b[38;5;241m*\u001b[39mkwargs: Any,\n\u001b[0;32m    784\u001b[0m ) \u001b[38;5;241m-\u001b[39m\u001b[38;5;241m>\u001b[39m LLMResult:\n\u001b[0;32m    785\u001b[0m     prompt_messages \u001b[38;5;241m=\u001b[39m [p\u001b[38;5;241m.\u001b[39mto_messages() \u001b[38;5;28;01mfor\u001b[39;00m p \u001b[38;5;129;01min\u001b[39;00m prompts]\n\u001b[1;32m--> 786\u001b[0m     \u001b[38;5;28;01mreturn\u001b[39;00m \u001b[38;5;28mself\u001b[39m\u001b[38;5;241m.\u001b[39mgenerate(prompt_messages, stop\u001b[38;5;241m=\u001b[39mstop, callbacks\u001b[38;5;241m=\u001b[39mcallbacks, \u001b[38;5;241m*\u001b[39m\u001b[38;5;241m*\u001b[39mkwargs)\n",
      "File \u001b[1;32mc:\\Users\\dbfru\\anaconda3\\envs\\llm_agent\\lib\\site-packages\\langchain_core\\language_models\\chat_models.py:643\u001b[0m, in \u001b[0;36mBaseChatModel.generate\u001b[1;34m(self, messages, stop, callbacks, tags, metadata, run_name, run_id, **kwargs)\u001b[0m\n\u001b[0;32m    641\u001b[0m         \u001b[38;5;28;01mif\u001b[39;00m run_managers:\n\u001b[0;32m    642\u001b[0m             run_managers[i]\u001b[38;5;241m.\u001b[39mon_llm_error(e, response\u001b[38;5;241m=\u001b[39mLLMResult(generations\u001b[38;5;241m=\u001b[39m[]))\n\u001b[1;32m--> 643\u001b[0m         \u001b[38;5;28;01mraise\u001b[39;00m e\n\u001b[0;32m    644\u001b[0m flattened_outputs \u001b[38;5;241m=\u001b[39m [\n\u001b[0;32m    645\u001b[0m     LLMResult(generations\u001b[38;5;241m=\u001b[39m[res\u001b[38;5;241m.\u001b[39mgenerations], llm_output\u001b[38;5;241m=\u001b[39mres\u001b[38;5;241m.\u001b[39mllm_output)  \u001b[38;5;66;03m# type: ignore[list-item]\u001b[39;00m\n\u001b[0;32m    646\u001b[0m     \u001b[38;5;28;01mfor\u001b[39;00m res \u001b[38;5;129;01min\u001b[39;00m results\n\u001b[0;32m    647\u001b[0m ]\n\u001b[0;32m    648\u001b[0m llm_output \u001b[38;5;241m=\u001b[39m \u001b[38;5;28mself\u001b[39m\u001b[38;5;241m.\u001b[39m_combine_llm_outputs([res\u001b[38;5;241m.\u001b[39mllm_output \u001b[38;5;28;01mfor\u001b[39;00m res \u001b[38;5;129;01min\u001b[39;00m results])\n",
      "File \u001b[1;32mc:\\Users\\dbfru\\anaconda3\\envs\\llm_agent\\lib\\site-packages\\langchain_core\\language_models\\chat_models.py:633\u001b[0m, in \u001b[0;36mBaseChatModel.generate\u001b[1;34m(self, messages, stop, callbacks, tags, metadata, run_name, run_id, **kwargs)\u001b[0m\n\u001b[0;32m    630\u001b[0m \u001b[38;5;28;01mfor\u001b[39;00m i, m \u001b[38;5;129;01min\u001b[39;00m \u001b[38;5;28menumerate\u001b[39m(messages):\n\u001b[0;32m    631\u001b[0m     \u001b[38;5;28;01mtry\u001b[39;00m:\n\u001b[0;32m    632\u001b[0m         results\u001b[38;5;241m.\u001b[39mappend(\n\u001b[1;32m--> 633\u001b[0m             \u001b[38;5;28mself\u001b[39m\u001b[38;5;241m.\u001b[39m_generate_with_cache(\n\u001b[0;32m    634\u001b[0m                 m,\n\u001b[0;32m    635\u001b[0m                 stop\u001b[38;5;241m=\u001b[39mstop,\n\u001b[0;32m    636\u001b[0m                 run_manager\u001b[38;5;241m=\u001b[39mrun_managers[i] \u001b[38;5;28;01mif\u001b[39;00m run_managers \u001b[38;5;28;01melse\u001b[39;00m \u001b[38;5;28;01mNone\u001b[39;00m,\n\u001b[0;32m    637\u001b[0m                 \u001b[38;5;241m*\u001b[39m\u001b[38;5;241m*\u001b[39mkwargs,\n\u001b[0;32m    638\u001b[0m             )\n\u001b[0;32m    639\u001b[0m         )\n\u001b[0;32m    640\u001b[0m     \u001b[38;5;28;01mexcept\u001b[39;00m \u001b[38;5;167;01mBaseException\u001b[39;00m \u001b[38;5;28;01mas\u001b[39;00m e:\n\u001b[0;32m    641\u001b[0m         \u001b[38;5;28;01mif\u001b[39;00m run_managers:\n",
      "File \u001b[1;32mc:\\Users\\dbfru\\anaconda3\\envs\\llm_agent\\lib\\site-packages\\langchain_core\\language_models\\chat_models.py:851\u001b[0m, in \u001b[0;36mBaseChatModel._generate_with_cache\u001b[1;34m(self, messages, stop, run_manager, **kwargs)\u001b[0m\n\u001b[0;32m    849\u001b[0m \u001b[38;5;28;01melse\u001b[39;00m:\n\u001b[0;32m    850\u001b[0m     \u001b[38;5;28;01mif\u001b[39;00m inspect\u001b[38;5;241m.\u001b[39msignature(\u001b[38;5;28mself\u001b[39m\u001b[38;5;241m.\u001b[39m_generate)\u001b[38;5;241m.\u001b[39mparameters\u001b[38;5;241m.\u001b[39mget(\u001b[38;5;124m\"\u001b[39m\u001b[38;5;124mrun_manager\u001b[39m\u001b[38;5;124m\"\u001b[39m):\n\u001b[1;32m--> 851\u001b[0m         result \u001b[38;5;241m=\u001b[39m \u001b[38;5;28mself\u001b[39m\u001b[38;5;241m.\u001b[39m_generate(\n\u001b[0;32m    852\u001b[0m             messages, stop\u001b[38;5;241m=\u001b[39mstop, run_manager\u001b[38;5;241m=\u001b[39mrun_manager, \u001b[38;5;241m*\u001b[39m\u001b[38;5;241m*\u001b[39mkwargs\n\u001b[0;32m    853\u001b[0m         )\n\u001b[0;32m    854\u001b[0m     \u001b[38;5;28;01melse\u001b[39;00m:\n\u001b[0;32m    855\u001b[0m         result \u001b[38;5;241m=\u001b[39m \u001b[38;5;28mself\u001b[39m\u001b[38;5;241m.\u001b[39m_generate(messages, stop\u001b[38;5;241m=\u001b[39mstop, \u001b[38;5;241m*\u001b[39m\u001b[38;5;241m*\u001b[39mkwargs)\n",
      "File \u001b[1;32mc:\\Users\\dbfru\\anaconda3\\envs\\llm_agent\\lib\\site-packages\\langchain_experimental\\llms\\ollama_functions.py:313\u001b[0m, in \u001b[0;36mOllamaFunctions._generate\u001b[1;34m(self, messages, stop, run_manager, **kwargs)\u001b[0m\n\u001b[0;32m    307\u001b[0m system_message_prompt_template \u001b[38;5;241m=\u001b[39m SystemMessagePromptTemplate\u001b[38;5;241m.\u001b[39mfrom_template(\n\u001b[0;32m    308\u001b[0m     \u001b[38;5;28mself\u001b[39m\u001b[38;5;241m.\u001b[39mtool_system_prompt_template\n\u001b[0;32m    309\u001b[0m )\n\u001b[0;32m    310\u001b[0m system_message \u001b[38;5;241m=\u001b[39m system_message_prompt_template\u001b[38;5;241m.\u001b[39mformat(\n\u001b[0;32m    311\u001b[0m     tools\u001b[38;5;241m=\u001b[39mjson\u001b[38;5;241m.\u001b[39mdumps(functions, indent\u001b[38;5;241m=\u001b[39m\u001b[38;5;241m2\u001b[39m)\n\u001b[0;32m    312\u001b[0m )\n\u001b[1;32m--> 313\u001b[0m response_message \u001b[38;5;241m=\u001b[39m \u001b[38;5;28msuper\u001b[39m()\u001b[38;5;241m.\u001b[39m_generate(\n\u001b[0;32m    314\u001b[0m     [system_message] \u001b[38;5;241m+\u001b[39m messages, stop\u001b[38;5;241m=\u001b[39mstop, run_manager\u001b[38;5;241m=\u001b[39mrun_manager, \u001b[38;5;241m*\u001b[39m\u001b[38;5;241m*\u001b[39mkwargs\n\u001b[0;32m    315\u001b[0m )\n\u001b[0;32m    316\u001b[0m chat_generation_content \u001b[38;5;241m=\u001b[39m response_message\u001b[38;5;241m.\u001b[39mgenerations[\u001b[38;5;241m0\u001b[39m]\u001b[38;5;241m.\u001b[39mtext\n\u001b[0;32m    317\u001b[0m \u001b[38;5;28;01mif\u001b[39;00m \u001b[38;5;129;01mnot\u001b[39;00m \u001b[38;5;28misinstance\u001b[39m(chat_generation_content, \u001b[38;5;28mstr\u001b[39m):\n",
      "File \u001b[1;32mc:\\Users\\dbfru\\anaconda3\\envs\\llm_agent\\lib\\site-packages\\langchain_community\\chat_models\\ollama.py:291\u001b[0m, in \u001b[0;36mChatOllama._generate\u001b[1;34m(self, messages, stop, run_manager, **kwargs)\u001b[0m\n\u001b[0;32m    267\u001b[0m \u001b[38;5;28;01mdef\u001b[39;00m \u001b[38;5;21m_generate\u001b[39m(\n\u001b[0;32m    268\u001b[0m     \u001b[38;5;28mself\u001b[39m,\n\u001b[0;32m    269\u001b[0m     messages: List[BaseMessage],\n\u001b[1;32m   (...)\u001b[0m\n\u001b[0;32m    272\u001b[0m     \u001b[38;5;241m*\u001b[39m\u001b[38;5;241m*\u001b[39mkwargs: Any,\n\u001b[0;32m    273\u001b[0m ) \u001b[38;5;241m-\u001b[39m\u001b[38;5;241m>\u001b[39m ChatResult:\n\u001b[0;32m    274\u001b[0m \u001b[38;5;250m    \u001b[39m\u001b[38;5;124;03m\"\"\"Call out to Ollama's generate endpoint.\u001b[39;00m\n\u001b[0;32m    275\u001b[0m \n\u001b[0;32m    276\u001b[0m \u001b[38;5;124;03m    Args:\u001b[39;00m\n\u001b[1;32m   (...)\u001b[0m\n\u001b[0;32m    288\u001b[0m \u001b[38;5;124;03m            ])\u001b[39;00m\n\u001b[0;32m    289\u001b[0m \u001b[38;5;124;03m    \"\"\"\u001b[39;00m\n\u001b[1;32m--> 291\u001b[0m     final_chunk \u001b[38;5;241m=\u001b[39m \u001b[38;5;28mself\u001b[39m\u001b[38;5;241m.\u001b[39m_chat_stream_with_aggregation(\n\u001b[0;32m    292\u001b[0m         messages,\n\u001b[0;32m    293\u001b[0m         stop\u001b[38;5;241m=\u001b[39mstop,\n\u001b[0;32m    294\u001b[0m         run_manager\u001b[38;5;241m=\u001b[39mrun_manager,\n\u001b[0;32m    295\u001b[0m         verbose\u001b[38;5;241m=\u001b[39m\u001b[38;5;28mself\u001b[39m\u001b[38;5;241m.\u001b[39mverbose,\n\u001b[0;32m    296\u001b[0m         \u001b[38;5;241m*\u001b[39m\u001b[38;5;241m*\u001b[39mkwargs,\n\u001b[0;32m    297\u001b[0m     )\n\u001b[0;32m    298\u001b[0m     chat_generation \u001b[38;5;241m=\u001b[39m ChatGeneration(\n\u001b[0;32m    299\u001b[0m         message\u001b[38;5;241m=\u001b[39mAIMessage(content\u001b[38;5;241m=\u001b[39mfinal_chunk\u001b[38;5;241m.\u001b[39mtext),\n\u001b[0;32m    300\u001b[0m         generation_info\u001b[38;5;241m=\u001b[39mfinal_chunk\u001b[38;5;241m.\u001b[39mgeneration_info,\n\u001b[0;32m    301\u001b[0m     )\n\u001b[0;32m    302\u001b[0m     \u001b[38;5;28;01mreturn\u001b[39;00m ChatResult(generations\u001b[38;5;241m=\u001b[39m[chat_generation])\n",
      "File \u001b[1;32mc:\\Users\\dbfru\\anaconda3\\envs\\llm_agent\\lib\\site-packages\\langchain_community\\chat_models\\ollama.py:222\u001b[0m, in \u001b[0;36mChatOllama._chat_stream_with_aggregation\u001b[1;34m(self, messages, stop, run_manager, verbose, **kwargs)\u001b[0m\n\u001b[0;32m    213\u001b[0m \u001b[38;5;28;01mdef\u001b[39;00m \u001b[38;5;21m_chat_stream_with_aggregation\u001b[39m(\n\u001b[0;32m    214\u001b[0m     \u001b[38;5;28mself\u001b[39m,\n\u001b[0;32m    215\u001b[0m     messages: List[BaseMessage],\n\u001b[1;32m   (...)\u001b[0m\n\u001b[0;32m    219\u001b[0m     \u001b[38;5;241m*\u001b[39m\u001b[38;5;241m*\u001b[39mkwargs: Any,\n\u001b[0;32m    220\u001b[0m ) \u001b[38;5;241m-\u001b[39m\u001b[38;5;241m>\u001b[39m ChatGenerationChunk:\n\u001b[0;32m    221\u001b[0m     final_chunk: Optional[ChatGenerationChunk] \u001b[38;5;241m=\u001b[39m \u001b[38;5;28;01mNone\u001b[39;00m\n\u001b[1;32m--> 222\u001b[0m     \u001b[38;5;28;01mfor\u001b[39;00m stream_resp \u001b[38;5;129;01min\u001b[39;00m \u001b[38;5;28mself\u001b[39m\u001b[38;5;241m.\u001b[39m_create_chat_stream(messages, stop, \u001b[38;5;241m*\u001b[39m\u001b[38;5;241m*\u001b[39mkwargs):\n\u001b[0;32m    223\u001b[0m         \u001b[38;5;28;01mif\u001b[39;00m stream_resp:\n\u001b[0;32m    224\u001b[0m             chunk \u001b[38;5;241m=\u001b[39m _chat_stream_response_to_chat_generation_chunk(stream_resp)\n",
      "File \u001b[1;32mc:\\Users\\dbfru\\anaconda3\\envs\\llm_agent\\lib\\site-packages\\langchain_community\\chat_models\\ollama.py:192\u001b[0m, in \u001b[0;36mChatOllama._create_chat_stream\u001b[1;34m(self, messages, stop, **kwargs)\u001b[0m\n\u001b[0;32m    184\u001b[0m \u001b[38;5;28;01mdef\u001b[39;00m \u001b[38;5;21m_create_chat_stream\u001b[39m(\n\u001b[0;32m    185\u001b[0m     \u001b[38;5;28mself\u001b[39m,\n\u001b[0;32m    186\u001b[0m     messages: List[BaseMessage],\n\u001b[0;32m    187\u001b[0m     stop: Optional[List[\u001b[38;5;28mstr\u001b[39m]] \u001b[38;5;241m=\u001b[39m \u001b[38;5;28;01mNone\u001b[39;00m,\n\u001b[0;32m    188\u001b[0m     \u001b[38;5;241m*\u001b[39m\u001b[38;5;241m*\u001b[39mkwargs: Any,\n\u001b[0;32m    189\u001b[0m ) \u001b[38;5;241m-\u001b[39m\u001b[38;5;241m>\u001b[39m Iterator[\u001b[38;5;28mstr\u001b[39m]:\n\u001b[0;32m    190\u001b[0m     payload \u001b[38;5;241m=\u001b[39m {\n\u001b[0;32m    191\u001b[0m         \u001b[38;5;124m\"\u001b[39m\u001b[38;5;124mmodel\u001b[39m\u001b[38;5;124m\"\u001b[39m: \u001b[38;5;28mself\u001b[39m\u001b[38;5;241m.\u001b[39mmodel,\n\u001b[1;32m--> 192\u001b[0m         \u001b[38;5;124m\"\u001b[39m\u001b[38;5;124mmessages\u001b[39m\u001b[38;5;124m\"\u001b[39m: \u001b[38;5;28;43mself\u001b[39;49m\u001b[38;5;241;43m.\u001b[39;49m\u001b[43m_convert_messages_to_ollama_messages\u001b[49m\u001b[43m(\u001b[49m\u001b[43mmessages\u001b[49m\u001b[43m)\u001b[49m,\n\u001b[0;32m    193\u001b[0m     }\n\u001b[0;32m    194\u001b[0m     \u001b[38;5;28;01myield from\u001b[39;00m \u001b[38;5;28mself\u001b[39m\u001b[38;5;241m.\u001b[39m_create_stream(\n\u001b[0;32m    195\u001b[0m         payload\u001b[38;5;241m=\u001b[39mpayload, stop\u001b[38;5;241m=\u001b[39mstop, api_url\u001b[38;5;241m=\u001b[39m\u001b[38;5;124mf\u001b[39m\u001b[38;5;124m\"\u001b[39m\u001b[38;5;132;01m{\u001b[39;00m\u001b[38;5;28mself\u001b[39m\u001b[38;5;241m.\u001b[39mbase_url\u001b[38;5;132;01m}\u001b[39;00m\u001b[38;5;124m/api/chat\u001b[39m\u001b[38;5;124m\"\u001b[39m, \u001b[38;5;241m*\u001b[39m\u001b[38;5;241m*\u001b[39mkwargs\n\u001b[0;32m    196\u001b[0m     )\n",
      "File \u001b[1;32mc:\\Users\\dbfru\\anaconda3\\envs\\llm_agent\\lib\\site-packages\\langchain_community\\chat_models\\ollama.py:134\u001b[0m, in \u001b[0;36mChatOllama._convert_messages_to_ollama_messages\u001b[1;34m(self, messages)\u001b[0m\n\u001b[0;32m    132\u001b[0m     role \u001b[38;5;241m=\u001b[39m \u001b[38;5;124m\"\u001b[39m\u001b[38;5;124msystem\u001b[39m\u001b[38;5;124m\"\u001b[39m\n\u001b[0;32m    133\u001b[0m \u001b[38;5;28;01melse\u001b[39;00m:\n\u001b[1;32m--> 134\u001b[0m     \u001b[38;5;28;01mraise\u001b[39;00m \u001b[38;5;167;01mValueError\u001b[39;00m(\u001b[38;5;124m\"\u001b[39m\u001b[38;5;124mReceived unsupported message type for Ollama.\u001b[39m\u001b[38;5;124m\"\u001b[39m)\n\u001b[0;32m    136\u001b[0m content \u001b[38;5;241m=\u001b[39m \u001b[38;5;124m\"\u001b[39m\u001b[38;5;124m\"\u001b[39m\n\u001b[0;32m    137\u001b[0m images \u001b[38;5;241m=\u001b[39m []\n",
      "\u001b[1;31mValueError\u001b[0m: Received unsupported message type for Ollama."
     ]
    }
   ],
   "source": [
    "from langchain.schema import HumanMessage\n",
    "# events = graph.stream(\n",
    "#     {\n",
    "#         \"messages\": [\n",
    "#             HumanMessage(\n",
    "#                 content=\"Fetch the USA's GDP over the past 3 years,\"\n",
    "#                 \" then draw a line graph of it.\"\n",
    "#                 \" Once you code it up, finish.\"\n",
    "#             )\n",
    "#         ]\n",
    "#     },\n",
    "#     {\"recursion_limit\": 10}\n",
    "# )\n",
    "\n",
    "# for s in events:\n",
    "#     print(s)\n",
    "#     print(\"-----\")\n",
    "inputs = {}\n",
    "for output in graph.stream(inputs):\n",
    "    for key, value in output.item():\n",
    "        print(f\"Finished running: {key}:\")"
   ]
  },
  {
   "cell_type": "code",
   "execution_count": null,
   "metadata": {},
   "outputs": [],
   "source": []
  }
 ],
 "metadata": {
  "kernelspec": {
   "display_name": "llm_agent",
   "language": "python",
   "name": "python3"
  },
  "language_info": {
   "codemirror_mode": {
    "name": "ipython",
    "version": 3
   },
   "file_extension": ".py",
   "mimetype": "text/x-python",
   "name": "python",
   "nbconvert_exporter": "python",
   "pygments_lexer": "ipython3",
   "version": "3.10.16"
  }
 },
 "nbformat": 4,
 "nbformat_minor": 2
}
